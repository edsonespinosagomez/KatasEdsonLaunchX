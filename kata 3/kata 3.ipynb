{
 "cells": [
  {
   "cell_type": "markdown",
   "metadata": {},
   "source": [
    "Ejercicio asteroide "
   ]
  },
  {
   "cell_type": "code",
   "execution_count": 2,
   "metadata": {},
   "outputs": [
    {
     "name": "stdout",
     "output_type": "stream",
     "text": [
      "¡Alerta un asteoride se acerca peligrosamente!\n"
     ]
    }
   ],
   "source": [
    "#ejercicio 1\n",
    "asteroide = 49\n",
    "if asteroide >= 25:\n",
    " print(\"¡Alerta un asteoride se acerca peligrosamente!\")\n",
    "else:\n",
    "     print(\"sigue con tu dia\")\n"
   ]
  },
  {
   "cell_type": "code",
   "execution_count": 3,
   "metadata": {},
   "outputs": [
    {
     "name": "stdout",
     "output_type": "stream",
     "text": [
      "¡Nada que ver aquí!\n"
     ]
    }
   ],
   "source": [
    "#ejercicio 2\n",
    "\n",
    "asteroide = 19\n",
    "if asteroide > 20:\n",
    "    print('MIRA EL CIELO')\n",
    "elif asteroide == 20:\n",
    "    print('MIRA EL CIELO!')\n",
    "else:\n",
    "    print('¡Nada que ver aquí!')\n",
    "\n"
   ]
  },
  {
   "cell_type": "code",
   "execution_count": 6,
   "metadata": {},
   "outputs": [
    {
     "name": "stdout",
     "output_type": "stream",
     "text": [
      "MIRA EL CIELO!\n"
     ]
    }
   ],
   "source": [
    "#ejercicio 3\n",
    "velocidasteroide = 25\n",
    "tamanoasteroide = 40\n",
    "if velocidasteroide > 25 and tamanoasteroide > 25:\n",
    "    print('¡Alerta, Un asteroide muy peligroso viene hacia la Tierra!')\n",
    "elif velocidasteroide >= 20:\n",
    "    print('MIRA EL CIELO!')\n",
    "elif tamanoasteroide < 25:\n",
    "    print('Nada que ver aquí :)')\n",
    "else:\n",
    "    print('Nada que ver aquí :)')"
   ]
  }
 ],
 "metadata": {
  "interpreter": {
   "hash": "516bb2e3009947295fcfc08ea0f96dfe581b5ae0f3f74323b50473624f91b18e"
  },
  "kernelspec": {
   "display_name": "Python 3.10.2 64-bit",
   "language": "python",
   "name": "python3"
  },
  "language_info": {
   "codemirror_mode": {
    "name": "ipython",
    "version": 3
   },
   "file_extension": ".py",
   "mimetype": "text/x-python",
   "name": "python",
   "nbconvert_exporter": "python",
   "pygments_lexer": "ipython3",
   "version": "3.10.2"
  },
  "orig_nbformat": 4
 },
 "nbformat": 4,
 "nbformat_minor": 2
}
