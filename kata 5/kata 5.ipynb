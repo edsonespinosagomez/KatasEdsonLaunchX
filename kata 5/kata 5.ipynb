{
 "cells": [
  {
   "cell_type": "code",
   "execution_count": 11,
   "metadata": {},
   "outputs": [
    {
     "name": "stdout",
     "output_type": "stream",
     "text": [
      "distancia km: 628949330\n",
      "distancia millas: 390577533.93\n"
     ]
    }
   ],
   "source": [
    "# Guardar valores\n",
    "\n",
    "tierra = 149597870\n",
    "jupiter = 778547200\n",
    "\n",
    "distancia_km = jupiter-tierra\n",
    "resul2 = abs(distancia_km)\n",
    "print(\"distancia km:\", resul2)\n",
    "\n",
    "distancia_millas = distancia_km * 0.621\n",
    "resul3 = abs(distancia_millas)\n",
    "print(\"distancia millas:\", resul3)\n"
   ]
  },
  {
   "cell_type": "code",
   "execution_count": 12,
   "metadata": {},
   "outputs": [
    {
     "name": "stdout",
     "output_type": "stream",
     "text": [
      "distancia en km:  400\n",
      "distancia en millas:  248.4\n"
     ]
    }
   ],
   "source": [
    "# Almacenar las entradas del usuario\n",
    "planeta1= input('Introduzca la distancia del sol para el primer planeta en KM')\n",
    "planeta2 = input('Introduzca la distancia desde el sol para el segundo planeta en KM')\n",
    "\n",
    "#convertir a entero\n",
    "planeta1 = int(planeta1)\n",
    "planeta2 = int(planeta2)\n",
    "\n",
    "#Calculo y valor absoluto\n",
    "\n",
    "distancia = planeta1 - planeta2\n",
    "resul1 = abs(distancia)\n",
    "print(\"distancia en km: \", resul1)\n",
    "\n",
    "#Km a Mi\n",
    "\n",
    "distancia_mi = distancia * 0.621\n",
    "resul= abs(distancia_mi)\n",
    "print(\"distancia en millas: \",resul)\n"
   ]
  }
 ],
 "metadata": {
  "interpreter": {
   "hash": "516bb2e3009947295fcfc08ea0f96dfe581b5ae0f3f74323b50473624f91b18e"
  },
  "kernelspec": {
   "display_name": "Python 3.10.2 64-bit",
   "language": "python",
   "name": "python3"
  },
  "language_info": {
   "codemirror_mode": {
    "name": "ipython",
    "version": 3
   },
   "file_extension": ".py",
   "mimetype": "text/x-python",
   "name": "python",
   "nbconvert_exporter": "python",
   "pygments_lexer": "ipython3",
   "version": "3.10.2"
  },
  "orig_nbformat": 4
 },
 "nbformat": 4,
 "nbformat_minor": 2
}
