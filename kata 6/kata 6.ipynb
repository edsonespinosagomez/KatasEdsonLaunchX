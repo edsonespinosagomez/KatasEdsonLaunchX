{
 "cells": [
  {
   "cell_type": "code",
   "execution_count": 5,
   "metadata": {},
   "outputs": [
    {
     "name": "stdout",
     "output_type": "stream",
     "text": [
      "Hay  8 planetas.\n",
      "El ultimo planeta es:  Pluton\n"
     ]
    }
   ],
   "source": [
    "#crear lista\n",
    "\n",
    "planetas = ['Mercurio', 'Venus', 'Tierra', 'Marte', 'Jupiter', 'Saturno', 'Urano', 'Neptuno']\n",
    "print('Hay ', len(planetas), 'planetas.')\n",
    "#Agrerar pluton\n",
    "\n",
    "planetas.append('Pluton')\n",
    "print('El ultimo planeta es: ', planetas[-1])\n"
   ]
  },
  {
   "cell_type": "code",
   "execution_count": 19,
   "metadata": {},
   "outputs": [
    {
     "name": "stdout",
     "output_type": "stream",
     "text": [
      "tu planeta es : Tierra\n",
      "los planetas mas cercano al sol son:\n",
      "['Mercurio', 'Venus']\n",
      "Planetas mas alejados al sol \n",
      "['Marte', 'Jupiter', 'Saturno', 'Urano', 'Neptuno']\n"
     ]
    }
   ],
   "source": [
    "#crear lista\n",
    "planetas = ['Mercurio', 'Venus', 'Tierra', 'Marte', 'Jupiter', 'Saturno', 'Urano', 'Neptuno']\n",
    "\n",
    "# Solicitamos el nombre de un planeta\n",
    "planeta_ingresado = input('Introduzca un planeta iniciando con mayusucula:')\n",
    "print('tu planeta es :', planeta_ingresado)\n",
    "# Busca el planeta en la lista\n",
    "planet_index = planetas.index(planeta_ingresado)\n",
    "\n",
    "#planeta mas cercano al sol\n",
    "print('los planetas mas cercano al sol son:') #+ planeta_ingresado)\n",
    "print(planetas[0:planet_index])\n",
    "\n",
    "# Muestra los planetas más lejanos al sol\n",
    "\n",
    "print('Planetas mas alejados al sol ') #+ planeta_ingresado)\n",
    "print(planetas[planet_index + 1:])"
   ]
  }
 ],
 "metadata": {
  "interpreter": {
   "hash": "516bb2e3009947295fcfc08ea0f96dfe581b5ae0f3f74323b50473624f91b18e"
  },
  "kernelspec": {
   "display_name": "Python 3.10.2 64-bit",
   "language": "python",
   "name": "python3"
  },
  "language_info": {
   "codemirror_mode": {
    "name": "ipython",
    "version": 3
   },
   "file_extension": ".py",
   "mimetype": "text/x-python",
   "name": "python",
   "nbconvert_exporter": "python",
   "pygments_lexer": "ipython3",
   "version": "3.10.2"
  },
  "orig_nbformat": 4
 },
 "nbformat": 4,
 "nbformat_minor": 2
}
