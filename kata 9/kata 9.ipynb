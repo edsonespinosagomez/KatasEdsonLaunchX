{
 "cells": [
  {
   "cell_type": "code",
   "execution_count": null,
   "metadata": {},
   "outputs": [],
   "source": [
    "def informe(tanque1,tanque2,tanque3):\n",
    " prom_total = (tanque1+tanque2+tanque3)/3\n",
    " return f\"\"\"Inofrme gasolina:\n",
    "Total : {prom_total}%\n",
    "Tanque 1: {tanque1}%\n",
    "Tanque 2: {tanque2}%\n",
    "Tanque 3: {tanque3}% \n",
    "    \"\"\"\n",
    "\n",
    "print(informe(80,70,85))\n",
    "#funcion promedio\n",
    "def inf(values):\n",
    "    total = sum(values)\n",
    "    number_of_items = len(values)\n",
    "    return total / number_of_items\n",
    "inf([80, 85, 81]) \n",
    "#actualiza\n",
    "def informe(tanque1, tanque2, tanque3):\n",
    "    return f\"\"\"Inofrme gasolina:\n",
    "    Total : {inf([tanque1, tanque2, tanque3])}%\n",
    "    Tanque 1: {tanque1}%\n",
    "    Tanque 2 : {tanque2}%\n",
    "    Tanque 3: {tanque3}% \n",
    "    \"\"\"\n",
    "\n",
    "# Call the updated function again with different values\n",
    "print(informe(88, 76, 70))"
   ]
  },
  {
   "cell_type": "code",
   "execution_count": 17,
   "metadata": {},
   "outputs": [
    {
     "name": "stdout",
     "output_type": "stream",
     "text": [
      "\n",
      "    Mision a  luna\n",
      "    Tiempo total vuelo:  65 minutos\n",
      "    Combustible restante: 500000 galones\n",
      "    \n",
      "\n",
      "    Mision a  luna\n",
      "    Tiempo total vuelo: 76 minutos\n",
      "    Combustible restante: 500000\n",
      "    \n",
      "\n",
      "    Mision a  luna\n",
      "    Tiempo total vuelo: 74 minutes\n",
      "    Combustible restante: 500000\n",
      "    principal tanque --> 300000 galones restantes\n",
      "e tanque --> 200000 galones restantes\n",
      "\n"
     ]
    }
   ],
   "source": [
    "#ejercicio 2\n",
    "\n",
    "# Función con un informe preciso de la misión. Considera hora de prelanzamiento, tiempo de vuelo, destino, tanque externo y tanque interno\n",
    "\n",
    "def informe_mision(prelanzamiento, tiempovuelo, destino, tanque_ext, tanque_principal):\n",
    "    return f\"\"\"\n",
    "    Mision a  {destino}\n",
    "    Tiempo total vuelo:  {prelanzamiento + tiempovuelo} minutos\n",
    "    Combustible restante: {tanque_ext + tanque_principal} galones\n",
    "    \"\"\"\n",
    "\n",
    "print(informe_mision(14, 51, \"luna\", 200000, 300000))\n",
    "# Escribe tu nueva función de reporte considerando lo anterior\n",
    "\n",
    "def informe_mision(destino, *minutes, **reserva):\n",
    "    return f\"\"\"\n",
    "    Mision a  {destino}\n",
    "    Tiempo total vuelo: {sum(minutes)} minutos\n",
    "    Combustible restante: {sum(reserva.values())}\n",
    "    \"\"\"\n",
    "\n",
    "print(informe_mision(\"luna\", 10, 15, 51, main=300000, external=200000))\n",
    "# Escribe tu nueva función\n",
    "\n",
    "def informe_mision(destino, *minutes, **reserva):\n",
    "    main_report = f\"\"\"\n",
    "    Mision a  {destino}\n",
    "    Tiempo total vuelo: {sum(minutes)} minutes\n",
    "    Combustible restante: {sum(reserva.values())}\n",
    "    \"\"\"\n",
    "    for tanqueprincipal, gallons in reserva.items():\n",
    "        main_report += f\"{tanqueprincipal} tanque --> {gallons} galones restantes\\n\"\n",
    "    return main_report\n",
    "\n",
    "print(informe_mision(\"luna\", 8, 11, 55, principal=300000, externo=200000))"
   ]
  }
 ],
 "metadata": {
  "interpreter": {
   "hash": "516bb2e3009947295fcfc08ea0f96dfe581b5ae0f3f74323b50473624f91b18e"
  },
  "kernelspec": {
   "display_name": "Python 3.10.2 64-bit",
   "language": "python",
   "name": "python3"
  },
  "language_info": {
   "codemirror_mode": {
    "name": "ipython",
    "version": 3
   },
   "file_extension": ".py",
   "mimetype": "text/x-python",
   "name": "python",
   "nbconvert_exporter": "python",
   "pygments_lexer": "ipython3",
   "version": "3.10.2"
  },
  "orig_nbformat": 4
 },
 "nbformat": 4,
 "nbformat_minor": 2
}
